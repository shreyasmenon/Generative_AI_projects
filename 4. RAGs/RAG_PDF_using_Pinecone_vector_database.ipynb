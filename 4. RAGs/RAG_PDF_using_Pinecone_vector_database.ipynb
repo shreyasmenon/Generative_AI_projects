{
  "cells": [
    {
      "cell_type": "code",
      "execution_count": 3,
      "metadata": {
        "application/vnd.databricks.v1+cell": {
          "cellMetadata": {
            "byteLimit": 2048000,
            "rowLimit": 10000
          },
          "inputWidgets": {},
          "nuid": "e1a72d77-7d01-438a-a5a9-d6eca2cbb6ed",
          "showTitle": false,
          "title": ""
        },
        "id": "NKz3Uqr0Uvdz"
      },
      "outputs": [],
      "source": [
        "#!pip install langchain-openai unstructured==0.7.12 pinecone-client openai tiktoken\n",
        "#!pip install langchain\n",
        "#!pip install --upgrade langchain-pinecone"
      ]
    },
    {
      "cell_type": "code",
      "execution_count": 24,
      "metadata": {
        "application/vnd.databricks.v1+cell": {
          "cellMetadata": {
            "byteLimit": 2048000,
            "rowLimit": 10000
          },
          "inputWidgets": {},
          "nuid": "e56b201e-50ba-4a65-9b5d-c5ca235ebeb0",
          "showTitle": false,
          "title": ""
        },
        "id": "wwY-fzcAUvd1"
      },
      "outputs": [],
      "source": [
        "from langchain.embeddings.openai import OpenAIEmbeddings\n",
        "from langchain.text_splitter import CharacterTextSplitter\n",
        "from langchain.text_splitter import RecursiveCharacterTextSplitter\n",
        "from langchain.docstore.document import Document\n",
        "from langchain_community.document_loaders import UnstructuredURLLoader\n",
        "from langchain.chains.qa_with_sources import load_qa_with_sources_chain\n",
        "from langchain.vectorstores.pinecone import Pinecone\n",
        "from langchain_community.document_loaders import UnstructuredPDFLoader\n",
        "from langchain.chains import RetrievalQA\n",
        "from langchain import OpenAI\n",
        "from langchain_openai import ChatOpenAI\n",
        "import os\n",
        "import nltk\n",
        "import pinecone\n",
        "import openai\n",
        "import getpass\n",
        "from pinecone import Pinecone, ServerlessSpec\n",
        "from langchain_pinecone import PineconeVectorStore"
      ]
    },
    {
      "cell_type": "markdown",
      "metadata": {
        "application/vnd.databricks.v1+cell": {
          "cellMetadata": {
            "byteLimit": 2048000,
            "rowLimit": 10000
          },
          "inputWidgets": {},
          "nuid": "0e98b643-39b7-4dd2-ad6c-40353d561c6d",
          "showTitle": false,
          "title": ""
        },
        "id": "ZHTaO9PgUvd1"
      },
      "source": [
        "Set Pinecone Instance"
      ]
    },
    {
      "cell_type": "code",
      "execution_count": 5,
      "metadata": {
        "application/vnd.databricks.v1+cell": {
          "cellMetadata": {
            "byteLimit": 2048000,
            "rowLimit": 10000
          },
          "inputWidgets": {},
          "nuid": "14c09d7c-2099-458a-a9e8-8bec074f048c",
          "showTitle": false,
          "title": ""
        },
        "colab": {
          "base_uri": "https://localhost:8080/"
        },
        "id": "yxuo3bb2Uvd2",
        "outputId": "47c4ad9b-ac69-469d-87f7-b59eb76be1b2"
      },
      "outputs": [
        {
          "name": "stdout",
          "output_type": "stream",
          "text": [
            "··········\n"
          ]
        }
      ],
      "source": [
        "pine_cone_api_key = getpass.getpass()"
      ]
    },
    {
      "cell_type": "code",
      "source": [
        "os.environ['PINECONE_API_KEY'] = pine_cone_api_key"
      ],
      "metadata": {
        "id": "SBk85N35W13e"
      },
      "execution_count": 27,
      "outputs": []
    },
    {
      "cell_type": "code",
      "execution_count": 26,
      "metadata": {
        "application/vnd.databricks.v1+cell": {
          "cellMetadata": {
            "byteLimit": 2048000,
            "rowLimit": 10000
          },
          "inputWidgets": {},
          "nuid": "708e8561-c990-4169-8715-d3d0b07cb49c",
          "showTitle": false,
          "title": ""
        },
        "colab": {
          "base_uri": "https://localhost:8080/"
        },
        "id": "lJP3JrR8Uvd2",
        "outputId": "81d5992a-4a45-432a-a2ac-0cc04fb03245"
      },
      "outputs": [
        {
          "output_type": "execute_result",
          "data": {
            "text/plain": [
              "<pinecone.control.pinecone.Pinecone at 0x7ae5cae79f60>"
            ]
          },
          "metadata": {},
          "execution_count": 26
        }
      ],
      "source": [
        "pc = Pinecone(api_key=pine_cone_api_key)\n",
        "pc"
      ]
    },
    {
      "cell_type": "markdown",
      "metadata": {
        "application/vnd.databricks.v1+cell": {
          "cellMetadata": {
            "byteLimit": 2048000,
            "rowLimit": 10000
          },
          "inputWidgets": {},
          "nuid": "36114909-8c31-487c-8305-687c513db703",
          "showTitle": false,
          "title": ""
        },
        "id": "acGTFaZHUvd3"
      },
      "source": [
        "Enter the urls from which the pdf needs to be extracted"
      ]
    },
    {
      "cell_type": "code",
      "execution_count": 59,
      "metadata": {
        "application/vnd.databricks.v1+cell": {
          "cellMetadata": {
            "byteLimit": 2048000,
            "rowLimit": 10000
          },
          "inputWidgets": {},
          "nuid": "0ee3773e-ce87-4f45-a8e6-f59d57a1562f",
          "showTitle": false,
          "title": ""
        },
        "id": "FXJk7o5rUvd3"
      },
      "outputs": [],
      "source": [
        "urls = ['https://arxiv.org/pdf/1706.03762', 'https://cdn.openai.com/research-covers/language-unsupervised/language_understanding_paper.pdf' ] #URLs where a pdf document exists\n",
        "from langchain.document_loaders import UnstructuredURLLoader\n",
        "loader = UnstructuredURLLoader(urls=urls) #Will read the url which has pdf\n",
        "urls_pdf_content = loader.load()"
      ]
    },
    {
      "cell_type": "code",
      "execution_count": 60,
      "metadata": {
        "application/vnd.databricks.v1+cell": {
          "cellMetadata": {
            "byteLimit": 2048000,
            "rowLimit": 10000
          },
          "inputWidgets": {},
          "nuid": "d09ac26e-fb67-40ff-861d-95c0199e8134",
          "showTitle": false,
          "title": ""
        },
        "id": "MShrKR0zUvd3"
      },
      "outputs": [],
      "source": [
        "# Merging all pdf content from the urls into a single list\n",
        "documents = []\n",
        "documents.extend(urls_pdf_content)\n",
        "#documents[0]"
      ]
    },
    {
      "cell_type": "markdown",
      "metadata": {
        "application/vnd.databricks.v1+cell": {
          "cellMetadata": {
            "byteLimit": 2048000,
            "rowLimit": 10000
          },
          "inputWidgets": {},
          "nuid": "b790b56b-57d3-4e56-9b50-8fb539966a6a",
          "showTitle": false,
          "title": ""
        },
        "id": "w-70VZKoUvd3"
      },
      "source": [
        "Split the texts 'loaded' from each URL"
      ]
    },
    {
      "cell_type": "code",
      "execution_count": 50,
      "metadata": {
        "application/vnd.databricks.v1+cell": {
          "cellMetadata": {
            "byteLimit": 2048000,
            "rowLimit": 10000
          },
          "inputWidgets": {},
          "nuid": "f1fc0a2a-0049-48c7-967d-25968befb5a0",
          "showTitle": false,
          "title": ""
        },
        "colab": {
          "base_uri": "https://localhost:8080/"
        },
        "id": "VMeZ7pecUvd3",
        "outputId": "027b8c7a-ef47-4fb1-a6b5-e353c3d19097"
      },
      "outputs": [
        {
          "output_type": "execute_result",
          "data": {
            "text/plain": [
              "[Document(page_content='Provided proper attribution is provided, Google hereby grants permission to reproduce the tables and figures in this paper solely for use in journalistic or scholarly works.\\n\\nAttention Is All You Need\\n\\n3 2 0 2\\n\\nAshish Vaswani∗ Google Brain avaswani@google.com\\n\\nNoam Shazeer∗ Google Brain noam@google.com\\n\\nNiki Parmar∗ Google Research nikip@google.com\\n\\nJakob Uszkoreit∗ Google Research usz@google.com\\n\\ng u A 2\\n\\nLlion Jones∗ Google Research llion@google.com', metadata={'source': 'https://arxiv.org/pdf/1706.03762'}),\n",
              " Document(page_content='Aidan N. Gomez∗ † University of Toronto aidan@cs.toronto.edu\\n\\nŁukasz Kaiser∗ Google Brain lukaszkaiser@google.com\\n\\n] L C . s c [\\n\\nIllia Polosukhin∗ ‡ illia.polosukhin@gmail.com\\n\\nAbstract\\n\\n7 v 2 6 7 3 0 . 6 0 7 1 : v i X r a', metadata={'source': 'https://arxiv.org/pdf/1706.03762'}),\n",
              " Document(page_content='The dominant sequence transduction models are based on complex recurrent or convolutional neural networks that include an encoder and a decoder. The best performing models also connect the encoder and decoder through an attention mechanism. We propose a new simple network architecture, the Transformer, based solely on attention mechanisms, dispensing with recurrence and convolutions entirely. Experiments on two machine translation tasks show these models to be superior in quality while being', metadata={'source': 'https://arxiv.org/pdf/1706.03762'}),\n",
              " Document(page_content='quality while being more parallelizable and requiring significantly less time to train. Our model achieves 28.4 BLEU on the WMT 2014 English- to-German translation task, improving over the existing best results, including ensembles, by over 2 BLEU. On the WMT 2014 English-to-French translation task, our model establishes a new single-model state-of-the-art BLEU score of 41.8 after training for 3.5 days on eight GPUs, a small fraction of the training costs of the best models from the literature.', metadata={'source': 'https://arxiv.org/pdf/1706.03762'}),\n",
              " Document(page_content='the literature. We show that the Transformer generalizes well to other tasks by applying it successfully to English constituency parsing both with large and limited training data.', metadata={'source': 'https://arxiv.org/pdf/1706.03762'}),\n",
              " Document(page_content='∗Equal contribution. Listing order is random. Jakob proposed replacing RNNs with self-attention and started the effort to evaluate this idea. Ashish, with Illia, designed and implemented the first Transformer models and has been crucially involved in every aspect of this work. Noam proposed scaled dot-product attention, multi-head attention and the parameter-free position representation and became the other person involved in nearly every detail. Niki designed, implemented, tuned and evaluated', metadata={'source': 'https://arxiv.org/pdf/1706.03762'}),\n",
              " Document(page_content='tuned and evaluated countless model variants in our original codebase and tensor2tensor. Llion also experimented with novel model variants, was responsible for our initial codebase, and efficient inference and visualizations. Lukasz and Aidan spent countless long days designing various parts of and implementing tensor2tensor, replacing our earlier codebase, greatly improving results and massively accelerating our research.', metadata={'source': 'https://arxiv.org/pdf/1706.03762'}),\n",
              " Document(page_content='†Work performed while at Google Brain. ‡Work performed while at Google Research.\\n\\n31st Conference on Neural Information Processing Systems (NIPS 2017), Long Beach, CA, USA.\\n\\n1\\n\\nIntroduction', metadata={'source': 'https://arxiv.org/pdf/1706.03762'}),\n",
              " Document(page_content='1\\n\\nIntroduction\\n\\nRecurrent neural networks, long short-term memory [13] and gated recurrent [7] neural networks in particular, have been firmly established as state of the art approaches in sequence modeling and transduction problems such as language modeling and machine translation [35, 2, 5]. Numerous efforts have since continued to push the boundaries of recurrent language models and encoder-decoder architectures [38, 24, 15].', metadata={'source': 'https://arxiv.org/pdf/1706.03762'}),\n",
              " Document(page_content='Recurrent models typically factor computation along the symbol positions of the input and output sequences. Aligning the positions to steps in computation time, they generate a sequence of hidden states ht, as a function of the previous hidden state ht−1 and the input for position t. This inherently sequential nature precludes parallelization within training examples, which becomes critical at longer sequence lengths, as memory constraints limit batching across examples. Recent work has', metadata={'source': 'https://arxiv.org/pdf/1706.03762'})]"
            ]
          },
          "metadata": {},
          "execution_count": 50
        }
      ],
      "source": [
        "textsplitter = RecursiveCharacterTextSplitter(chunk_size=500,chunk_overlap=20)\n",
        "text = textsplitter.split_documents(documents)\n",
        "text[:10]\n",
        "#Here each splitted text has a source associated with them"
      ]
    },
    {
      "cell_type": "markdown",
      "metadata": {
        "application/vnd.databricks.v1+cell": {
          "cellMetadata": {
            "byteLimit": 2048000,
            "rowLimit": 10000
          },
          "inputWidgets": {},
          "nuid": "e6d1e79f-f8ff-4e55-9ad8-5b6e1ef97cab",
          "showTitle": false,
          "title": ""
        },
        "id": "DmMMx79LUvd4"
      },
      "source": [
        "Instantiate OPEN AI"
      ]
    },
    {
      "cell_type": "code",
      "execution_count": 11,
      "metadata": {
        "application/vnd.databricks.v1+cell": {
          "cellMetadata": {
            "byteLimit": 2048000,
            "rowLimit": 10000
          },
          "inputWidgets": {},
          "nuid": "c28ef177-5bda-46b8-b8fb-1bf1de3746db",
          "showTitle": false,
          "title": ""
        },
        "colab": {
          "base_uri": "https://localhost:8080/"
        },
        "id": "AiYk8Q9yUvd4",
        "outputId": "bf930bb8-3021-4320-d829-21c9d1f7df5b"
      },
      "outputs": [
        {
          "name": "stdout",
          "output_type": "stream",
          "text": [
            "Enter Open AI API key··········\n"
          ]
        }
      ],
      "source": [
        "openai_api_key = getpass.getpass('Enter Open AI API key')"
      ]
    },
    {
      "cell_type": "code",
      "execution_count": 12,
      "metadata": {
        "application/vnd.databricks.v1+cell": {
          "cellMetadata": {
            "byteLimit": 2048000,
            "rowLimit": 10000
          },
          "inputWidgets": {},
          "nuid": "443c1ab9-12dc-490a-82f8-913dba7e1834",
          "showTitle": false,
          "title": ""
        },
        "id": "uClFgEZxUvd4"
      },
      "outputs": [],
      "source": [
        "os.environ[\"OPENAI_API_KEY\"] = openai_api_key"
      ]
    },
    {
      "cell_type": "code",
      "source": [
        "pc.list_indexes().names()"
      ],
      "metadata": {
        "colab": {
          "base_uri": "https://localhost:8080/"
        },
        "id": "L76dv7ZXVcYT",
        "outputId": "6f799357-f8d2-4ee7-f6e2-2bb102c20712"
      },
      "execution_count": 16,
      "outputs": [
        {
          "output_type": "execute_result",
          "data": {
            "text/plain": [
              "['myindex']"
            ]
          },
          "metadata": {},
          "execution_count": 16
        }
      ]
    },
    {
      "cell_type": "code",
      "execution_count": 51,
      "metadata": {
        "application/vnd.databricks.v1+cell": {
          "cellMetadata": {
            "byteLimit": 2048000,
            "rowLimit": 10000
          },
          "inputWidgets": {},
          "nuid": "cc822344-2d3a-4534-9112-071c6a0e1e07",
          "showTitle": false,
          "title": ""
        },
        "id": "ItaLfA7yUvd4"
      },
      "outputs": [],
      "source": [
        "#Create embeddings from your splitted text\n",
        "\n",
        "embeddings = OpenAIEmbeddings()\n",
        "pinecone_index_name = 'myindex'\n",
        "\n",
        "if pinecone_index_name not in pc.list_indexes().names():\n",
        "\n",
        "    #You should see 'myindex' on your pineconde portal\n",
        "    pc.create_index(name=pinecone_index_name, metric='cosine', dimension=1536,spec=ServerlessSpec(cloud=\"aws\",region=\"us-east-1\"))"
      ]
    },
    {
      "cell_type": "code",
      "source": [
        "pc_vs= PineconeVectorStore(index_name=pinecone_index_name,embedding=embeddings)"
      ],
      "metadata": {
        "id": "JJya7fUjWvpY"
      },
      "execution_count": 52,
      "outputs": []
    },
    {
      "cell_type": "code",
      "execution_count": 53,
      "metadata": {
        "application/vnd.databricks.v1+cell": {
          "cellMetadata": {
            "byteLimit": 2048000,
            "rowLimit": 10000
          },
          "inputWidgets": {},
          "nuid": "a750881d-0610-43d6-91a0-0c598111583c",
          "showTitle": false,
          "title": ""
        },
        "colab": {
          "base_uri": "https://localhost:8080/"
        },
        "id": "tVEUCEpTUvd5",
        "outputId": "d927e718-c670-4d92-e141-5522786c1443"
      },
      "outputs": [
        {
          "output_type": "execute_result",
          "data": {
            "text/plain": [
              "<langchain_pinecone.vectorstores.PineconeVectorStore at 0x7ae5c5218c70>"
            ]
          },
          "metadata": {},
          "execution_count": 53
        }
      ],
      "source": [
        "docsearch = pc_vs.from_documents(text, #Splitted text object\n",
        "                                embeddings, #The embeddings object\n",
        "                                index_name=pinecone_index_name) #name of the index to stor\n",
        "docsearch"
      ]
    },
    {
      "cell_type": "markdown",
      "source": [
        "Use LLM"
      ],
      "metadata": {
        "id": "tMhBtSjEXR_5"
      }
    },
    {
      "cell_type": "code",
      "source": [
        "llm = ChatOpenAI(temperature=0.1, model_name=\"gpt-4\", max_tokens=256)"
      ],
      "metadata": {
        "id": "EetNZxchWLJ3"
      },
      "execution_count": 31,
      "outputs": []
    },
    {
      "cell_type": "code",
      "source": [
        "# RetrievalQA Retrieves relevant passages from a document corpus in response to a user query.\n",
        "retriever = RetrievalQA.from_chain_type(llm=llm,\n",
        "                                        retriever=docsearch.as_retriever(),\n",
        "                                        verbose=True,\n",
        "                                        return_source_documents=True)\n",
        "\n",
        "retriever"
      ],
      "metadata": {
        "colab": {
          "base_uri": "https://localhost:8080/"
        },
        "id": "93ElsWusXXi0",
        "outputId": "bcbeee5b-c667-495b-f47d-03155fe1678b"
      },
      "execution_count": 54,
      "outputs": [
        {
          "output_type": "execute_result",
          "data": {
            "text/plain": [
              "RetrievalQA(verbose=True, combine_documents_chain=StuffDocumentsChain(llm_chain=LLMChain(prompt=ChatPromptTemplate(input_variables=['context', 'question'], messages=[SystemMessagePromptTemplate(prompt=PromptTemplate(input_variables=['context'], template=\"Use the following pieces of context to answer the user's question. \\nIf you don't know the answer, just say that you don't know, don't try to make up an answer.\\n----------------\\n{context}\")), HumanMessagePromptTemplate(prompt=PromptTemplate(input_variables=['question'], template='{question}'))]), llm=ChatOpenAI(client=<openai.resources.chat.completions.Completions object at 0x7ae5c6926a70>, async_client=<openai.resources.chat.completions.AsyncCompletions object at 0x7ae5c6927070>, model_name='gpt-4', temperature=0.1, openai_api_key=SecretStr('**********'), openai_proxy='', max_tokens=256)), document_variable_name='context'), return_source_documents=True, retriever=VectorStoreRetriever(tags=['PineconeVectorStore', 'OpenAIEmbeddings'], vectorstore=<langchain_pinecone.vectorstores.PineconeVectorStore object at 0x7ae5c5218c70>))"
            ]
          },
          "metadata": {},
          "execution_count": 54
        }
      ]
    },
    {
      "cell_type": "code",
      "source": [
        "prompt = \"You are a researcher who is going to search the web links, summarize them and share insights as asked\"\n",
        "\n",
        "query = 'Is transformer architecture useful?'\n",
        "\n",
        "result = retriever({'query':query,'prompt':prompt})"
      ],
      "metadata": {
        "colab": {
          "base_uri": "https://localhost:8080/"
        },
        "id": "PdwqMqAKXzkc",
        "outputId": "5fe5265f-7764-459f-f06c-3edb9954266d"
      },
      "execution_count": 57,
      "outputs": [
        {
          "output_type": "stream",
          "name": "stdout",
          "text": [
            "\n",
            "\n",
            "\u001b[1m> Entering new RetrievalQA chain...\u001b[0m\n",
            "\n",
            "\u001b[1m> Finished chain.\u001b[0m\n"
          ]
        }
      ]
    },
    {
      "cell_type": "code",
      "source": [
        "#Final result\n",
        "result"
      ],
      "metadata": {
        "colab": {
          "base_uri": "https://localhost:8080/"
        },
        "id": "fnMlLSU_YK53",
        "outputId": "59d3aa99-e9c9-4cf6-ba88-908bcdac1957"
      },
      "execution_count": 58,
      "outputs": [
        {
          "output_type": "execute_result",
          "data": {
            "text/plain": [
              "{'query': 'Is transformer architecture useful?',\n",
              " 'prompt': 'You are a researcher who is going to search the web links, summarize them and share insights as asked',\n",
              " 'result': 'Yes, the Transformer architecture is useful. It has been shown to perform strongly on various tasks such as machine translation, document generation, and syntactic parsing. It provides a more structured memory for handling long-term dependencies in text, compared to alternatives like recurrent networks. This results in robust transfer performance across diverse tasks. For translation tasks, the Transformer can be trained significantly faster than architectures based on recurrent or convolutional layers and has achieved a new state of the art in translation quality.',\n",
              " 'source_documents': [Document(page_content='For our model architecture, we use the Transformer [62], which has been shown to perform strongly on various tasks such as machine translation [62], document generation [34], and syntactic parsing [29]. This model choice provides us with a more structured memory for handling long-term dependencies in text, compared to alternatives like recurrent networks, resulting in robust transfer performance across diverse tasks. During transfer, we utilize task-speciﬁc input adaptations derived from', metadata={'source': 'https://cdn.openai.com/research-covers/language-unsupervised/language_understanding_paper.pdf'}),\n",
              "  Document(page_content='For translation tasks, the Transformer can be trained significantly faster than architectures based on recurrent or convolutional layers. On both WMT 2014 English-to-German and WMT 2014 English-to-French translation tasks, we achieve a new state of the art. In the former task our best model outperforms even all previously reported ensembles.', metadata={'source': 'https://arxiv.org/pdf/1706.03762'}),\n",
              "  Document(page_content='For translation tasks, the Transformer can be trained significantly faster than architectures based on recurrent or convolutional layers. On both WMT 2014 English-to-German and WMT 2014 English-to-French translation tasks, we achieve a new state of the art. In the former task our best model outperforms even all previously reported ensembles.', metadata={'source': 'https://arxiv.org/pdf/1706.03762'}),\n",
              "  Document(page_content='In this work we propose the Transformer, a model architecture eschewing recurrence and instead relying entirely on an attention mechanism to draw global dependencies between input and output. The Transformer allows for significantly more parallelization and can reach a new state of the art in translation quality after being trained for as little as twelve hours on eight P100 GPUs.\\n\\n2 Background', metadata={'source': 'https://arxiv.org/pdf/1706.03762'})]}"
            ]
          },
          "metadata": {},
          "execution_count": 58
        }
      ]
    }
  ],
  "metadata": {
    "application/vnd.databricks.v1+notebook": {
      "dashboards": [],
      "language": "python",
      "notebookMetadata": {
        "pythonIndentUnit": 4
      },
      "notebookName": "Untitled Notebook 2024-05-02 12:17:48",
      "widgets": {}
    },
    "colab": {
      "provenance": []
    },
    "language_info": {
      "name": "python"
    },
    "kernelspec": {
      "name": "python3",
      "display_name": "Python 3"
    }
  },
  "nbformat": 4,
  "nbformat_minor": 0
}